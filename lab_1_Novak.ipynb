{
 "cells": [
  {
   "cell_type": "markdown",
   "id": "8f33418a-3c23-45df-8852-b4371b8ac333",
   "metadata": {},
   "source": [
    "1. Завантажив Python Anaconda"
   ]
  },
  {
   "cell_type": "code",
   "execution_count": null,
   "id": "e19758eb-f4a2-47cc-adcd-274d655611ad",
   "metadata": {},
   "outputs": [],
   "source": [
    "2. (novakAMO) C:\\Users\\user>conda create --name Novak_OpenCV\n",
    "Collecting package metadata (current_repodata.json): done\n",
    "Solving environment: done\n",
    "\n",
    "## Package Plan ##\n",
    "\n",
    "  environment location: C:\\Users\\user\\anaconda3\\envs\\Novak_OpenCV\n",
    "\n",
    "Proceed ([y]/n)? y\n",
    "\n",
    "Preparing transaction: done\n",
    "Verifying transaction: done\n",
    "Executing transaction: done\n",
    "#\n",
    "# To activate this environment, use\n",
    "#\n",
    "#     $ conda activate Novak_OpenCV\n",
    "#\n",
    "# To deactivate an active environment, use\n",
    "#\n",
    "#     $ conda deactivate\n",
    "\n",
    "Retrieving notices: ...working... done"
   ]
  },
  {
   "cell_type": "code",
   "execution_count": null,
   "id": "eadce1e2-fc2c-4835-941f-dc030b484e15",
   "metadata": {},
   "outputs": [],
   "source": [
    "3. (Novak_OpenCV) C:\\Users\\user>pip -V\n",
    "pip 22.1.2 from C:\\Users\\user\\anaconda3\\lib\\site-packages\\pip (python 3.9)"
   ]
  },
  {
   "cell_type": "markdown",
   "id": "09acb274",
   "metadata": {},
   "source": [
    "Контрольні запитання\n",
    "1. Що таке pip і conda та чим вони відрізняються між собою?\n",
    "   Відповідь: Платформа: pip – це стандартний менеджер пакетів Python і може бути використаний у будь-якому місці, де встановлений Python. Conda, \n",
    "з іншого боку, є частиною Anaconda дистрибутива і, хоча він може бути встановлений без повного дистрибутива Anaconda, він зазвичай використовується \n",
    "разом з ним;\n",
    "2. Як буде виглядати виконання пунктів 1-3 індивідуального завдання за допомогою Virtualenv?\n",
    "   Відповідь:\n",
    "   python -m pip install --upgrade pip\n",
    "   pip install virtualenv\n",
    "   pip install opencv-python\n",
    "   pip install jupyterlab\n",
    "3. Сфотографувати себе на телефон та імпортувати свое зображення у форматі .png на початок робочого зошита\n",
    "   ![MYPHOTO](./img.png)\n",
    "4. Написати процедуру на `Python` сортування масиву методом бульбашки.\n",
    "   def bubble_sort(array):\n",
    "    length = len(array)\n",
    "    for i in range(0, length):\n",
    "        for j in range(0, length - i - 1):\n",
    "            if array[j] > array[j + 1]:\n",
    "                temp = array[j]\n",
    "                array[j] = array[j + 1]\n",
    "                array[j + 1]=     temp\n",
    "    print(\"Сортування бульбашкою\")\n",
    "    arr = []\n",
    "    n = int(input(\"Введіть довжину масиву: \"))\n",
    "    for i in range(0, n):\n",
    "        element = int(input(\"arr[\" + str(i + 1    ) + \"] = \"))\n",
    "        arr.append(element)\n",
    "    bubble_sort(arr)\n",
    "    prinований     масив: \")\n",
    "    print(arr)\n",
    "   \n",
    "   "
   ]
  },
  {
   "cell_type": "code",
   "execution_count": null,
   "id": "dd34e4d7",
   "metadata": {},
   "outputs": [],
   "source": []
  }
 ],
 "metadata": {
  "kernelspec": {
   "display_name": "Python 3 (ipykernel)",
   "language": "python",
   "name": "python3"
  },
  "language_info": {
   "codemirror_mode": {
    "name": "ipython",
    "version": 3
   },
   "file_extension": ".py",
   "mimetype": "text/x-python",
   "name": "python",
   "nbconvert_exporter": "python",
   "pygments_lexer": "ipython3",
   "version": "3.9.12"
  }
 },
 "nbformat": 4,
 "nbformat_minor": 5
}
